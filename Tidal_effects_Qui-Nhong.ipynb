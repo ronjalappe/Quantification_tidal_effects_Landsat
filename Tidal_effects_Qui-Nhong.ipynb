{
 "cells": [
  {
   "cell_type": "markdown",
   "metadata": {},
   "source": [
    "## Quantification of tidal effects in Vietnam on Landsat satellite imagery \n",
    "> Content of the script\n",
    "- get sea level data for different stations in Vietnam \n",
    "- extract sea levels at Landsat aquisition time\n",
    "- create date sequence for high tides and low tides respectively\n",
    "- filter Landsat archive for dates at high and low tides with less than 20% cloud cover within the region of interest\n",
    "- build low/ high tide pairs with closest aquisition dates \n",
    "- ...\n",
    "\n",
    "> sources: \n",
    "- [1] http://uhslc.soest.hawaii.edu/data/?rq#uh381http://uhslc.soest.hawaii.edu/data/csv/rqds/pacific/hourly/h381a.csv\n",
    "- [2] https://www.psmsl.org/data/obtaining/stations/1475.php - only monthly data for Da Nang\n",
    "\n",
    ">Stations: \n",
    "- Qui Nhon, South-Central Vietnam (1994-2005, 2007-2018) [1]\n",
    "- Vung Tau, Southern Vietnam (1986-2002, 2007-2018) [1]\n",
    "- Hon Dau, Island in Northern Vietnam (1995) [1]"
   ]
  },
  {
   "cell_type": "markdown",
   "metadata": {},
   "source": [
    "### 1| Setup"
   ]
  },
  {
   "cell_type": "markdown",
   "metadata": {},
   "source": [
    "Python packages"
   ]
  },
  {
   "cell_type": "code",
   "execution_count": 1,
   "metadata": {},
   "outputs": [],
   "source": [
    "import ee\n",
    "import geemap\n",
    "import geetools\n",
    "import os\n",
    "import pandas as pd\n",
    "import seaborn as sns\n",
    "import matplotlib.pyplot as plt\n",
    "from scipy.signal import find_peaks\n",
    "import datetime\n",
    "import pytz\n",
    "from pytz import timezone\n",
    "import statistics as stat\n",
    "import pickle\n",
    "import warnings\n",
    "import nbimporter"
   ]
  },
  {
   "cell_type": "markdown",
   "metadata": {},
   "source": [
    "Parameters"
   ]
  },
  {
   "cell_type": "code",
   "execution_count": 4,
   "metadata": {},
   "outputs": [
    {
     "name": "stdout",
     "output_type": "stream",
     "text": [
      "/Users/Ronjamac/Documents/02_Studium/Masterarbeit/Code/Quantification_tidal_effects_Landsat/python_output\n"
     ]
    }
   ],
   "source": [
    "# Sea level station \n",
    "station = \"Vung Tau\" # name of station \n",
    "station_coordinates = [10.34000,107.07200]## coordinates of the station. Qui Nhong:[13.77500,109.25500] \n",
    "local_timezone = \"Asia/Ho_Chi_Minh\" #for other options check: \"pytz.all_timezones\"\n",
    "\n",
    "# Paths\n",
    "station_data_path = os.path.join(os.path.split(os.getcwd())[0],\"Data/Sea_levels\")\n",
    "station_file_name = \"vung-tau1\"\n",
    "output_path = os.path.join(os.getcwd(),\"python_output\")\n",
    "print(output_path)"
   ]
  },
  {
   "cell_type": "code",
   "execution_count": null,
   "metadata": {},
   "outputs": [],
   "source": []
  }
 ],
 "metadata": {
  "kernelspec": {
   "display_name": "Python 3",
   "language": "python",
   "name": "python3"
  },
  "language_info": {
   "codemirror_mode": {
    "name": "ipython",
    "version": 3
   },
   "file_extension": ".py",
   "mimetype": "text/x-python",
   "name": "python",
   "nbconvert_exporter": "python",
   "pygments_lexer": "ipython3",
   "version": "3.8.2"
  },
  "toc": {
   "base_numbering": 1,
   "nav_menu": {},
   "number_sections": true,
   "sideBar": true,
   "skip_h1_title": false,
   "title_cell": "Table of Contents",
   "title_sidebar": "Contents",
   "toc_cell": false,
   "toc_position": {},
   "toc_section_display": true,
   "toc_window_display": false
  },
  "varInspector": {
   "cols": {
    "lenName": 16,
    "lenType": 16,
    "lenVar": 40
   },
   "kernels_config": {
    "python": {
     "delete_cmd_postfix": "",
     "delete_cmd_prefix": "del ",
     "library": "var_list.py",
     "varRefreshCmd": "print(var_dic_list())"
    },
    "r": {
     "delete_cmd_postfix": ") ",
     "delete_cmd_prefix": "rm(",
     "library": "var_list.r",
     "varRefreshCmd": "cat(var_dic_list()) "
    }
   },
   "types_to_exclude": [
    "module",
    "function",
    "builtin_function_or_method",
    "instance",
    "_Feature"
   ],
   "window_display": false
  }
 },
 "nbformat": 4,
 "nbformat_minor": 4
}
